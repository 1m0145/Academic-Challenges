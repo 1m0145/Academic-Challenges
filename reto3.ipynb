{
  "nbformat": 4,
  "nbformat_minor": 0,
  "metadata": {
    "kernelspec": {
      "language": "python",
      "display_name": "Python 3",
      "name": "python3"
    },
    "language_info": {
      "pygments_lexer": "ipython3",
      "nbconvert_exporter": "python",
      "version": "3.6.4",
      "file_extension": ".py",
      "codemirror_mode": {
        "name": "ipython",
        "version": 3
      },
      "name": "python",
      "mimetype": "text/x-python"
    },
    "colab": {
      "name": "reto3.ipynb",
      "provenance": [],
      "collapsed_sections": [],
      "include_colab_link": true
    }
  },
  "cells": [
    {
      "cell_type": "markdown",
      "metadata": {
        "id": "view-in-github",
        "colab_type": "text"
      },
      "source": [
        "<a href=\"https://colab.research.google.com/github/1m0145/Academic-Challenges/blob/main/reto3.ipynb\" target=\"_parent\"><img src=\"https://colab.research.google.com/assets/colab-badge.svg\" alt=\"Open In Colab\"/></a>"
      ]
    },
    {
      "cell_type": "markdown",
      "metadata": {
        "id": "Fq0flXEhPE2C"
      },
      "source": [
        "<center><img src=https://tournaments.codedarena.com/wp-content/uploads/2021/10/LIGA-RETADORES-2021_350px.gif></center>\n",
        "<h1> Reto 3 - Lengua Castellana </h1>\n",
        "\n",
        "----\n",
        "<h3> Tipos de Adverbios </h3>"
      ]
    },
    {
      "cell_type": "markdown",
      "metadata": {
        "id": "k4nO7ujYPE2Q"
      },
      "source": [
        "### ¿Qué es un adverbio?\n",
        "\n",
        "Un **adverbio** es una palabra invariable que complementa a verbos, adjetivos, otros adverbios e incluso oraciones. Los adverbios expresan circunstancias y dan contexto a lo que complementan. Dan respuesta a preguntas como ¿cuándo?, ¿dónde?, ¿cómo?, ¿de qué manera?, entre otras.\n",
        "\n",
        "Los adverbios actúan como núcleo de un **sintagma adverbial**, y se pueden clasificar en distintos tipos según la clase de pregunta a la que responden, o la clase de información que añaden."
      ]
    },
    {
      "cell_type": "markdown",
      "metadata": {
        "id": "acqjUpAuPE2Y"
      },
      "source": [
        "### Tipos de adverbios\n",
        "\n",
        "Los adverbios se clasifican tradicionalmente en los siguientes tipos:\n",
        "\n",
        "* **Adverbios de lugar**: Aquellos que indican dónde sucede algo: aquí, allí, cerca, lejos, encima, debajo, delante, detrás, etc.\n",
        "\n",
        "* **Adverbios de tiempo**: Aquellos que indican cuándo sucede algo: antes, después, pronto, tarde, hoy, ayer, mañana, siempre, nunca, etc.\n",
        "\n",
        "* **Adverbios de modo**: Aquellos que indican de qué manera sucede algo: bien, mal, despacio, deprisa, mejor, peor, fácilimente, rápidamente, etc.\n",
        "\n",
        "* **Adverbios de cantidad o grado**: Aquellos que, complementando adjetivos típicamente, indican en qué grado o mesura: mucho, poco, bastante, demasiado, más, menos, casi, aproximadamente, etc.\n",
        "\n",
        "* **Adverbios de afirmación**: Aquellos que indican que algo es cierto: sí, también, ciertamente, efectivamente, obvio, seguramente, etc.\n",
        "\n",
        "* **Adverbios de negación**: Aquellos que indican que algo es falso: no, tampoco, contrariamente, ninguno, etc.\n",
        "\n",
        "* **Adverbios de orden**: Aquellos que indican en qué orden sucede algo: primero, segundo, finalmente, primeramente, etc.\n",
        "\n",
        "* **Adverbios de duda**: Aquellos que indican falta de certeza en algo: quizás, probablemente, puede, posiblemente, etc.\n",
        "\n",
        "* **Adverbios interrogativos o exclamativos**: Son las palabras *cuándo*, *cómo*, *cuánto* y *dónde*, que siempre llevan tilde cuando se usan como adverbios interrogativos o exclamativos en oraciones de dicho tipo.\n",
        "\n",
        "* **Adverbios relativos**: Son las palabras *cuando*, *como*, *cuanto* y *donde*. que no llevan tilde cuando se usan como adverbio relativo para relacionar oraciones o partes de oraciones entre sí."
      ]
    },
    {
      "cell_type": "markdown",
      "metadata": {
        "id": "rusOjJvzPE2a"
      },
      "source": [
        "----\n",
        "\n",
        "<h3>Programación</h3>"
      ]
    },
    {
      "cell_type": "markdown",
      "metadata": {
        "id": "Le-m4ApiPE2e"
      },
      "source": [
        "Para superar con éxito este reto, se debe escribir un código de programación en *Python* que **identifique si una serie de palabras son adverbios o no**, y si lo son que indique **de qué tipo**.\n",
        "\n",
        "En el bloque de programación que hay debajo encontraréis diversas variables. Las **diez primeras** representan un **tipo de adverbio**, y contienen una **lista de cadenas** que se corresponden con los principales adverbios de cada tipo. A continuación veréis la variable *adverbios*, que contiene una lista de las diez listas anteriores, junto a la variable *tipos*, que contiene la lista de cadenas que indican el nombre de cada tipo de adverbio. \n",
        "\n",
        "Fijáos en que, para cualquier índice numérico, el elemento de la lista *adverbios* coincide con el tipo de adverbio en la lista *tipos*.\n",
        "\n",
        "También encontraréis la variable *palabras*, que contiene una lista de palabras sin identificar. Vuestro código deberá **comprobar para cada palabra** si se corresponde con alguno de los adverbios de las listas que contiene la variable *adverbios*. SI es así, deberéis indicar con la función **print()** la palabra y el tipo de adverbio que es. Si la palabra no se encuentra en ninguna de las listas, deberéis indicar con la función **print()** que esa palabra no es un adverbio.\n",
        "\n",
        "*¡Atención! Para resolver este reto, se necesitan conocimientos de Variables, Comparaciones, Condicionales, Listas e Iteradores adquiridos al superar la misión 28 de [CodedArena](https://codedarena.com).*"
      ]
    },
    {
      "cell_type": "markdown",
      "metadata": {
        "id": "akzzAXg0PE2g"
      },
      "source": [
        "ESCRIBE TU CÓDIGO EN EL SIGUIENTE BLOQUE Y PULSA EL BOTÓN ▶️ PARA EJECUTARLO."
      ]
    },
    {
      "cell_type": "code",
      "metadata": {
        "trusted": false,
        "id": "6xBEBslXPE2g"
      },
      "source": [
        "# Datos del problema\n",
        "lugar = [\"aquí\", \"allí\", \"ahí\", \"allá\", \"acá\", \"arriba\", \"abajo\", \"cerca\", \"lejos\", \"adelante\", \"delante\", \"detrás\", \"encima\", \"debajo\", \"enfrente\", \"atrás\", \"alrededor\"]\n",
        "tiempo = [\"antes\", \"después\", \"luego\", \"pronto\", \"tarde\", \"temprano\", \"todavía\", \"aún\", \"ya\", \"ayer\", \"hoy\", \"mañana\", \"anteayer\", \"siempre\", \"nunca\", \"jamás\", \"próximamente\", \"prontamente\", \"anoche\", \"enseguida\", \"ahora\", \"mientras\", \"anteriormente\"]\n",
        "modo = [\"bien\", \"mal\", \"regular\", \"despacio\", \"deprisa\", \"así\", \"tal\", \"como\", \"aprisa\", \"adrede\", \"peor\", \"mejor\", \"fielmente\", \"estupendamente\", \"fácilmente\", \"negativamente\", \"responsablemente\", \"rápidamente\"]\n",
        "cantidad = [\"muy\", \"poco\", \"mucho\", \"bastante\", \"más\", \"menos\", \"algo\", \"demasiado\", \"casi\", \"solo\", \"solamente\", \"tan\", \"tanto\", \"todo\", \"nada\", \"aproximadamente\"]\n",
        "afirmacion = [\"sí\", \"también\", \"cierto\", \"ciertamente\", \"efectivamente\", \"claro\", \"exacto\", \"obvio\", \"verdaderamente\", \"seguramente\", \"asimismo\"]\n",
        "negacion = [\"no\", \"tampoco\", \"contrariamente\", \"ninguno\"]\n",
        "orden = [\"primero\", \"segundo\", \"finalmente\", \"primeramente\", \"últimamente\"]\n",
        "duda = [\"quizá\", \"quizás\", \"acaso\", \"puede\", \"probablemente\", \"posiblemente\", \"seguramente\"]\n",
        "interrogativo_exclamativo = [\"cómo\", \"cuándo\", \"cuánto\", \"dónde\"]\n",
        "relativo = [\"como\", \"cuando\", \"cuanto\", \"donde\"]\n",
        "\n",
        "adverbios = [lugar, tiempo, modo, cantidad, afirmacion, negacion, orden, duda, interrogativo_exclamativo, relativo]\n",
        "tipos = [\"lugar\", \"tiempo\", \"modo\", \"cantidad\", \"afirmacion\", \"negacion\", \"orden\", \"duda\", \"interrogativo/exclamativo\", \"relativo\"]\n",
        "\n",
        "palabras = [\"regular\", \"hola\", \"cuándo\", \"arena\", \"solo\", \"tampoco\", \"suerte\", \"quizás\", \"amiga\", \"siempre\", \"contra\", \"fácil\", \"donde\", \"triste\", \"espejismo\", \"claro\", \"mente\", \"tres\", \"finalmente\", \"lavar\", \"abajo\", \"contento\", \"lleno\"]\n",
        "\n",
        "# Empieza a escribir tu código aquí\n",
        "\n",
        "\n",
        "\n",
        "\n"
      ],
      "execution_count": null,
      "outputs": []
    },
    {
      "cell_type": "markdown",
      "metadata": {
        "id": "C6SQMg-4PE2j"
      },
      "source": [
        "----\n",
        "\n",
        "Cuando hayáis completado el reto, descargad este archivo en formato Notebook (.ipynb) y hacédnoslo llegar a través de este [formulario](https://forms.gle/KgWJaRi4Kqyq9mkA6), tal y como se muestra en las instrucciones de [blog.codedarena.com](https://blog.codedarena.com)."
      ]
    }
  ]
}